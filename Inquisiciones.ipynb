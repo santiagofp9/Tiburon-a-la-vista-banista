{
 "cells": [
  {
   "cell_type": "code",
   "execution_count": null,
   "id": "c28e45f2",
   "metadata": {},
   "outputs": [],
   "source": [
    "#Here it starts, the heroic path of data hygiene. \n",
    "\n",
    "#Might be interesting to check who reports the shark attacks and when, so we could wonder where is the void in reports.\n",
    "#The data may show that sharks only attack on english spoken territory.\n",
    "#If data is accurate enough, it could be funny to search at what time does sharks set their tables.\n",
    "#Might more attacks could be reported a couple years after Jaws was premiered? 1975 is the year.\n",
    "\n",
    "#SEEMINGLY RELEVANT COLUMNS:\n",
    "#Tier1: Country, Date, Time, Year \n",
    "#Tier2: Name, Area, Location, Activity\n",
    "\n",
    "#Crucial facts:\n",
    "#-In 2008 a polar bear jaw was found in a Greenland shark's stomach.\n",
    "#-This is Mary Lee, the influencer shark: https://twitter.com/maryleeshark"
   ]
  },
  {
   "cell_type": "code",
   "execution_count": null,
   "id": "49edf235",
   "metadata": {},
   "outputs": [],
   "source": [
    "import pandas as pd\n",
    "pd.set_option('display.max_columns', None)\n",
    "\n",
    "import numpy as np\n",
    "\n",
    "import warnings\n",
    "warnings.filterwarnings('ignore')\n",
    "\n",
    "#Hokusai level shark graphics.\n",
    "import pylab as plt\n",
    "import seaborn as sns\n",
    "\n",
    "#This make the graph possible\n",
    "%matplotlib inline\n",
    "\n",
    "#Functions\n",
    "from src.funk import Funk "
   ]
  },
  {
   "cell_type": "code",
   "execution_count": null,
   "id": "cd513197",
   "metadata": {},
   "outputs": [],
   "source": [
    "#tibu.head()\n",
    "#tibu.info()\n",
    "#tibu.shape"
   ]
  },
  {
   "cell_type": "code",
   "execution_count": null,
   "id": "80af6ec2",
   "metadata": {},
   "outputs": [],
   "source": [
    "tear1 = tibu[['Date', 'Year', 'Country','Time']]\n",
    "tear2 = tibu[['Name', 'Area', 'Location', 'Activity']]\n",
    "tears = tibu[['Date', 'Year', 'Country','Time', 'Name', 'Area', 'Location', 'Activity']]"
   ]
  },
  {
   "cell_type": "code",
   "execution_count": null,
   "id": "77406bfd",
   "metadata": {},
   "outputs": [],
   "source": [
    "#It is possible to research by Country, there are 213 unique entries.\n",
    "len(tibu['Country'].unique())"
   ]
  },
  {
   "cell_type": "code",
   "execution_count": null,
   "id": "a928e618",
   "metadata": {},
   "outputs": [],
   "source": [
    "#There are 4970 unique Investigator values. \n",
    "#It seems that sometimes it is an individual -seemingly reporting for GlobalSharkAttackFile-. \n",
    "#Some other times it is local media report.\n",
    "#For now, I cannot think of anything interesting around here.\n",
    "tibu['Investigator or Source'].head()"
   ]
  },
  {
   "cell_type": "code",
   "execution_count": null,
   "id": "7b5d7797",
   "metadata": {},
   "outputs": [],
   "source": [
    "#Checking the meal hours for sharks\n",
    "#I will need to calculate the percentage of null value in Date and Time columns.\n",
    "\n",
    "tibu[['Date', 'Time']].head()"
   ]
  },
  {
   "cell_type": "code",
   "execution_count": null,
   "id": "dfa3e8a8",
   "metadata": {},
   "outputs": [],
   "source": [
    "#Checking the relevance of Jaws premiere.\n",
    "##I will need to establish the years in which the 80% of the attacks were recorded.\n",
    "#tibu[['Date', 'Time']].head()"
   ]
  }
 ],
 "metadata": {
  "kernelspec": {
   "display_name": "Python 3 (ipykernel)",
   "language": "python",
   "name": "python3"
  },
  "language_info": {
   "codemirror_mode": {
    "name": "ipython",
    "version": 3
   },
   "file_extension": ".py",
   "mimetype": "text/x-python",
   "name": "python",
   "nbconvert_exporter": "python",
   "pygments_lexer": "ipython3",
   "version": "3.9.15"
  }
 },
 "nbformat": 4,
 "nbformat_minor": 5
}
